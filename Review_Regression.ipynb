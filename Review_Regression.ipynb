{
  "nbformat": 4,
  "nbformat_minor": 0,
  "metadata": {
    "colab": {
      "provenance": [],
      "authorship_tag": "ABX9TyMOjfo0fmteFKoiD9GX4qEN",
      "include_colab_link": true
    },
    "kernelspec": {
      "name": "python3",
      "display_name": "Python 3"
    },
    "language_info": {
      "name": "python"
    }
  },
  "cells": [
    {
      "cell_type": "markdown",
      "metadata": {
        "id": "view-in-github",
        "colab_type": "text"
      },
      "source": [
        "<a href=\"https://colab.research.google.com/github/novrian6/review-ML-regression/blob/main/Review_Regression.ipynb\" target=\"_parent\"><img src=\"https://colab.research.google.com/assets/colab-badge.svg\" alt=\"Open In Colab\"/></a>"
      ]
    },
    {
      "cell_type": "code",
      "source": [
        "#Imports library\n",
        "import tensorflow as tf\n",
        "import matplotlib.pyplot as plt\n",
        "import pandas as pd\n",
        "import numpy as np\n"
      ],
      "metadata": {
        "id": "E7O9147mAv7w"
      },
      "execution_count": null,
      "outputs": []
    },
    {
      "cell_type": "code",
      "execution_count": null,
      "metadata": {
        "id": "ok0NtmLQAYe8"
      },
      "outputs": [],
      "source": [
        "\n",
        "\n",
        "\n",
        "##1.Prepare data"
      ]
    },
    {
      "cell_type": "code",
      "source": [
        "X=tf.range(-100,100,delta=2)"
      ],
      "metadata": {
        "id": "clhd4RI4AjeE"
      },
      "execution_count": null,
      "outputs": []
    },
    {
      "cell_type": "code",
      "source": [
        "y=X+10"
      ],
      "metadata": {
        "id": "GG_JbAoNBAZe"
      },
      "execution_count": null,
      "outputs": []
    },
    {
      "cell_type": "code",
      "source": [
        "X,y"
      ],
      "metadata": {
        "colab": {
          "base_uri": "https://localhost:8080/"
        },
        "id": "euLONjIbBCGD",
        "outputId": "3e8939ec-ce45-4a1b-cb84-4f9ff468cf2c"
      },
      "execution_count": null,
      "outputs": [
        {
          "output_type": "execute_result",
          "data": {
            "text/plain": [
              "(<tf.Tensor: shape=(100,), dtype=int32, numpy=\n",
              " array([-100,  -98,  -96,  -94,  -92,  -90,  -88,  -86,  -84,  -82,  -80,\n",
              "         -78,  -76,  -74,  -72,  -70,  -68,  -66,  -64,  -62,  -60,  -58,\n",
              "         -56,  -54,  -52,  -50,  -48,  -46,  -44,  -42,  -40,  -38,  -36,\n",
              "         -34,  -32,  -30,  -28,  -26,  -24,  -22,  -20,  -18,  -16,  -14,\n",
              "         -12,  -10,   -8,   -6,   -4,   -2,    0,    2,    4,    6,    8,\n",
              "          10,   12,   14,   16,   18,   20,   22,   24,   26,   28,   30,\n",
              "          32,   34,   36,   38,   40,   42,   44,   46,   48,   50,   52,\n",
              "          54,   56,   58,   60,   62,   64,   66,   68,   70,   72,   74,\n",
              "          76,   78,   80,   82,   84,   86,   88,   90,   92,   94,   96,\n",
              "          98], dtype=int32)>,\n",
              " <tf.Tensor: shape=(100,), dtype=int32, numpy=\n",
              " array([-90, -88, -86, -84, -82, -80, -78, -76, -74, -72, -70, -68, -66,\n",
              "        -64, -62, -60, -58, -56, -54, -52, -50, -48, -46, -44, -42, -40,\n",
              "        -38, -36, -34, -32, -30, -28, -26, -24, -22, -20, -18, -16, -14,\n",
              "        -12, -10,  -8,  -6,  -4,  -2,   0,   2,   4,   6,   8,  10,  12,\n",
              "         14,  16,  18,  20,  22,  24,  26,  28,  30,  32,  34,  36,  38,\n",
              "         40,  42,  44,  46,  48,  50,  52,  54,  56,  58,  60,  62,  64,\n",
              "         66,  68,  70,  72,  74,  76,  78,  80,  82,  84,  86,  88,  90,\n",
              "         92,  94,  96,  98, 100, 102, 104, 106, 108], dtype=int32)>)"
            ]
          },
          "metadata": {},
          "execution_count": 10
        }
      ]
    },
    {
      "cell_type": "code",
      "source": [
        "X.shape, y.shape"
      ],
      "metadata": {
        "colab": {
          "base_uri": "https://localhost:8080/"
        },
        "id": "cO2PHes3K_RF",
        "outputId": "ac9f2a2b-130e-47e0-eff7-61c738428e52"
      },
      "execution_count": null,
      "outputs": [
        {
          "output_type": "execute_result",
          "data": {
            "text/plain": [
              "(TensorShape([100]), TensorShape([100]))"
            ]
          },
          "metadata": {},
          "execution_count": 11
        }
      ]
    },
    {
      "cell_type": "code",
      "source": [
        "## Create model\n",
        "model=tf.keras.Sequential(\n",
        "    [\n",
        "        tf.keras.layers.Dense(10),\n",
        "\n",
        "        tf.keras.layers.Dense(1)\n",
        "\n",
        "\n",
        "    ]\n",
        ")"
      ],
      "metadata": {
        "id": "scsaXDyZBE5n"
      },
      "execution_count": null,
      "outputs": []
    },
    {
      "cell_type": "code",
      "source": [
        "model.compile(loss=tf.keras.losses.mae,optimizer= tf.keras.optimizers.Adam(learning_rate=0.05),metrics=[\"mae\"])"
      ],
      "metadata": {
        "id": "SV6cTXYIJnGz"
      },
      "execution_count": null,
      "outputs": []
    },
    {
      "cell_type": "code",
      "source": [
        "X_p= tf.expand_dims(X, axis=1)\n",
        "\n",
        "history=model.fit(X_p,y,epochs=20)"
      ],
      "metadata": {
        "colab": {
          "base_uri": "https://localhost:8080/"
        },
        "id": "VG6ubO1xJ6ep",
        "outputId": "9044fade-0b57-466d-b64a-6b74f23837de"
      },
      "execution_count": null,
      "outputs": [
        {
          "output_type": "stream",
          "name": "stdout",
          "text": [
            "Epoch 1/20\n",
            "4/4 [==============================] - 1s 7ms/step - loss: 33.3313 - mae: 33.3313\n",
            "Epoch 2/20\n",
            "4/4 [==============================] - 0s 4ms/step - loss: 21.9746 - mae: 21.9746\n",
            "Epoch 3/20\n",
            "4/4 [==============================] - 0s 4ms/step - loss: 10.9923 - mae: 10.9923\n",
            "Epoch 4/20\n",
            "4/4 [==============================] - 0s 4ms/step - loss: 12.7330 - mae: 12.7330\n",
            "Epoch 5/20\n",
            "4/4 [==============================] - 0s 4ms/step - loss: 10.3911 - mae: 10.3911\n",
            "Epoch 6/20\n",
            "4/4 [==============================] - 0s 4ms/step - loss: 8.2719 - mae: 8.2719\n",
            "Epoch 7/20\n",
            "4/4 [==============================] - 0s 4ms/step - loss: 7.1484 - mae: 7.1484\n",
            "Epoch 8/20\n",
            "4/4 [==============================] - 0s 4ms/step - loss: 4.9262 - mae: 4.9262\n",
            "Epoch 9/20\n",
            "4/4 [==============================] - 0s 5ms/step - loss: 3.8746 - mae: 3.8746\n",
            "Epoch 10/20\n",
            "4/4 [==============================] - 0s 4ms/step - loss: 3.0610 - mae: 3.0610\n",
            "Epoch 11/20\n",
            "4/4 [==============================] - 0s 4ms/step - loss: 2.0059 - mae: 2.0059\n",
            "Epoch 12/20\n",
            "4/4 [==============================] - 0s 5ms/step - loss: 0.8044 - mae: 0.8044\n",
            "Epoch 13/20\n",
            "4/4 [==============================] - 0s 3ms/step - loss: 1.3017 - mae: 1.3017\n",
            "Epoch 14/20\n",
            "4/4 [==============================] - 0s 4ms/step - loss: 1.3562 - mae: 1.3562\n",
            "Epoch 15/20\n",
            "4/4 [==============================] - 0s 4ms/step - loss: 1.0763 - mae: 1.0763\n",
            "Epoch 16/20\n",
            "4/4 [==============================] - 0s 4ms/step - loss: 1.3904 - mae: 1.3904\n",
            "Epoch 17/20\n",
            "4/4 [==============================] - 0s 4ms/step - loss: 0.7640 - mae: 0.7640\n",
            "Epoch 18/20\n",
            "4/4 [==============================] - 0s 4ms/step - loss: 1.9838 - mae: 1.9838\n",
            "Epoch 19/20\n",
            "4/4 [==============================] - 0s 4ms/step - loss: 1.1491 - mae: 1.1491\n",
            "Epoch 20/20\n",
            "4/4 [==============================] - 0s 3ms/step - loss: 0.6711 - mae: 0.6711\n"
          ]
        }
      ]
    },
    {
      "cell_type": "code",
      "source": [
        "model.predict([10])"
      ],
      "metadata": {
        "colab": {
          "base_uri": "https://localhost:8080/"
        },
        "id": "T6NetikKOm6b",
        "outputId": "14be70b6-e31e-4553-d20a-5d4942aa1228"
      },
      "execution_count": null,
      "outputs": [
        {
          "output_type": "stream",
          "name": "stdout",
          "text": [
            "1/1 [==============================] - 0s 104ms/step\n"
          ]
        },
        {
          "output_type": "execute_result",
          "data": {
            "text/plain": [
              "array([[19.79988]], dtype=float32)"
            ]
          },
          "metadata": {},
          "execution_count": 15
        }
      ]
    },
    {
      "cell_type": "code",
      "source": [
        "model.summary()"
      ],
      "metadata": {
        "colab": {
          "base_uri": "https://localhost:8080/"
        },
        "id": "2s-0VLTLREP2",
        "outputId": "993d5e32-a5e2-43f3-da49-c05973191282"
      },
      "execution_count": null,
      "outputs": [
        {
          "output_type": "stream",
          "name": "stdout",
          "text": [
            "Model: \"sequential\"\n",
            "_________________________________________________________________\n",
            " Layer (type)                Output Shape              Param #   \n",
            "=================================================================\n",
            " dense (Dense)               (None, 10)                20        \n",
            "                                                                 \n",
            " dense_1 (Dense)             (None, 1)                 11        \n",
            "                                                                 \n",
            "=================================================================\n",
            "Total params: 31 (124.00 Byte)\n",
            "Trainable params: 31 (124.00 Byte)\n",
            "Non-trainable params: 0 (0.00 Byte)\n",
            "_________________________________________________________________\n"
          ]
        }
      ]
    },
    {
      "cell_type": "code",
      "source": [
        "model.save(\"regression.h5\")"
      ],
      "metadata": {
        "id": "RrBG-9vrRSPf",
        "colab": {
          "base_uri": "https://localhost:8080/"
        },
        "outputId": "e27bb9b0-60a7-48ec-8e29-8381fda20e33"
      },
      "execution_count": null,
      "outputs": [
        {
          "output_type": "stream",
          "name": "stderr",
          "text": [
            "/usr/local/lib/python3.10/dist-packages/keras/src/engine/training.py:3079: UserWarning: You are saving your model as an HDF5 file via `model.save()`. This file format is considered legacy. We recommend using instead the native Keras format, e.g. `model.save('my_model.keras')`.\n",
            "  saving_api.save_model(\n"
          ]
        }
      ]
    },
    {
      "cell_type": "code",
      "source": [],
      "metadata": {
        "id": "3g2vlW_nhQAQ"
      },
      "execution_count": null,
      "outputs": []
    }
  ]
}